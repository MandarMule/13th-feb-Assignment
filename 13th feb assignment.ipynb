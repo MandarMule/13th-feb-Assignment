{
 "cells": [
  {
   "cell_type": "code",
   "execution_count": null,
   "id": "70efd797-fb85-490d-8fb6-13792543de59",
   "metadata": {},
   "outputs": [],
   "source": [
    "Q1. Explain why we have to use the Exception class while creating a Custom Exception."
   ]
  },
  {
   "cell_type": "code",
   "execution_count": null,
   "id": "a914a1ed-b3c3-4b5f-8d59-397a952f153a",
   "metadata": {},
   "outputs": [],
   "source": [
    "At time of creating custom exception, if we dont now which type of error will arise. at that time exception class is used to show their is \n",
    "some error will arise after execution of code.\n",
    "It is base class for all exceptional classes. Although it is not good practice to write only Exceptional class, but if not sure about which \n",
    "eroor will come . then it is Ok to be used."
   ]
  },
  {
   "cell_type": "code",
   "execution_count": null,
   "id": "1c77c193-15a7-4293-bb21-a025e6409d5e",
   "metadata": {},
   "outputs": [],
   "source": [
    "Q2.Write a python program to print Python Exception Hierarchy."
   ]
  },
  {
   "cell_type": "code",
   "execution_count": 1,
   "id": "409f78c5-7963-4ab0-b866-d69ba9aa3f7f",
   "metadata": {},
   "outputs": [],
   "source": [
    "import logging\n",
    "logging.basicConfig(filename=\"feb.log\", level=logging.ERROR)\n",
    "try:\n",
    "    15/0\n",
    "except ZeroDivisionError as e:\n",
    "    logging.error(\"This is zeroDivision Error\")"
   ]
  },
  {
   "cell_type": "code",
   "execution_count": 2,
   "id": "a219a6ff-c01e-412c-81ae-671f25b5e49a",
   "metadata": {},
   "outputs": [],
   "source": [
    "try:\n",
    "    import mandar\n",
    "except ModuleNotFoundError as e:\n",
    "    logging.error(\"Module not found\")"
   ]
  },
  {
   "cell_type": "code",
   "execution_count": null,
   "id": "984b74b9-ff88-4da8-91a6-35bd2093dd57",
   "metadata": {},
   "outputs": [],
   "source": [
    "Q.3. What errors are defined in the ArithmeticError class? Explain any two with an example."
   ]
  },
  {
   "cell_type": "code",
   "execution_count": null,
   "id": "58d12e03-decf-401a-961e-27e450f3f3e5",
   "metadata": {},
   "outputs": [],
   "source": [
    "ArithmeticError is raised when their is any error in arithmatic error.\n",
    "it is base class of exception error. there are two types of error in ArithmeticError is 1) ZeroDivisionError 2) OverflowError\n"
   ]
  },
  {
   "cell_type": "code",
   "execution_count": null,
   "id": "79c4a303-151f-409c-a1a7-3886c64712b2",
   "metadata": {},
   "outputs": [],
   "source": [
    "import logging\n",
    "logging.basicConfig(filename=\"feb.log\", level=logging.ERROR)\n",
    "try:\n",
    "    15/0\n",
    "except ZeroDivisionError as e:\n",
    "    logging.error(\"This is zeroDivision Error\")"
   ]
  },
  {
   "cell_type": "code",
   "execution_count": null,
   "id": "64f8d292-9255-4f89-b208-2c43a5136050",
   "metadata": {},
   "outputs": [],
   "source": [
    "import sys\n",
    "\n",
    "try:\n",
    "    result = sys.maxsize + 1\n",
    "    print(f\"Result: {result}\")\n",
    "except OverflowError as e:\n",
    "    print(f\"Caught an OverflowError: {e}\")\n"
   ]
  },
  {
   "cell_type": "code",
   "execution_count": null,
   "id": "3606e24b-fd94-4997-adbc-fce5de5319af",
   "metadata": {},
   "outputs": [],
   "source": [
    "Q4.Why LookupError class is used? Explain with an example KeyError and IndexError."
   ]
  },
  {
   "cell_type": "code",
   "execution_count": null,
   "id": "76fc39ca-7edb-4536-b2aa-4d53a9ec03d4",
   "metadata": {},
   "outputs": [],
   "source": [
    "LookupError is related to serching value associated with Key or Index .\n",
    "subclasses are 1) KeyError and 2) IndexError"
   ]
  },
  {
   "cell_type": "code",
   "execution_count": null,
   "id": "97027895-9e70-41ee-999d-1a9d0956d7e7",
   "metadata": {},
   "outputs": [],
   "source": [
    "my_dict = {'a': 1, 'b': 2, 'c': 3}\n",
    "\n",
    "try:\n",
    "    print(f\"Value: {value}\")\n",
    "except KeyError as e:\n",
    "    print(f\"Caught a KeyError: {e}\")\n"
   ]
  },
  {
   "cell_type": "code",
   "execution_count": null,
   "id": "dcc1d68d-46d3-493f-96e6-470912784d82",
   "metadata": {},
   "outputs": [],
   "source": [
    "my_list = [1, 2, 3, 4, 5]\n",
    "\n",
    "try:\n",
    "    value = my_list[10]  \n",
    "    print(f\"Value: {value}\")\n",
    "except IndexError as e:\n",
    "    print(f\"Caught an IndexError: {e}\")\n"
   ]
  },
  {
   "cell_type": "code",
   "execution_count": null,
   "id": "c5d7e6d5-292c-43ac-9da4-ffbe1628a2b2",
   "metadata": {},
   "outputs": [],
   "source": [
    "Q5.Explain ImportError. What is ModuleNotFoundError?"
   ]
  },
  {
   "cell_type": "code",
   "execution_count": null,
   "id": "ef27cc0b-3572-4670-a4bf-d42b6e4c6391",
   "metadata": {},
   "outputs": [],
   "source": [
    "ImportError arises when an import statement cannot locate the module being imported or when there is an issue during the import process. \n",
    "This can happen for various reasons, such as the module not being installed, the module's file not being found, or errors within the module \n",
    "during execution.\n",
    "ModuleNotFoundError is a more specific subclass of ImportError. ModuleNotFoundError specifically indicates that the requested module could \n",
    "not be found."
   ]
  },
  {
   "cell_type": "code",
   "execution_count": null,
   "id": "3f8708d6-4485-48f4-85df-0c8e474ee971",
   "metadata": {},
   "outputs": [],
   "source": [
    "Q6.List down some best practices for exception handling in python."
   ]
  },
  {
   "cell_type": "code",
   "execution_count": null,
   "id": "5dee0583-595f-479f-8e5c-bf6d5b93b877",
   "metadata": {},
   "outputs": [],
   "source": [
    "1. use always specidic exception\n",
    "2.print always proper msg\n",
    ". "
   ]
  }
 ],
 "metadata": {
  "kernelspec": {
   "display_name": "Python 3 (ipykernel)",
   "language": "python",
   "name": "python3"
  },
  "language_info": {
   "codemirror_mode": {
    "name": "ipython",
    "version": 3
   },
   "file_extension": ".py",
   "mimetype": "text/x-python",
   "name": "python",
   "nbconvert_exporter": "python",
   "pygments_lexer": "ipython3",
   "version": "3.10.8"
  }
 },
 "nbformat": 4,
 "nbformat_minor": 5
}
